{
  "nbformat": 4,
  "nbformat_minor": 0,
  "metadata": {
    "colab": {
      "name": "Webscraping1.ipynb",
      "provenance": [],
      "collapsed_sections": []
    },
    "kernelspec": {
      "name": "python3",
      "display_name": "Python 3"
    },
    "accelerator": "GPU"
  },
  "cells": [
    {
      "cell_type": "markdown",
      "metadata": {
        "id": "0grfM3_ugFoC",
        "colab_type": "text"
      },
      "source": [
        "# Youtube Recommendation Video System"
      ]
    },
    {
      "cell_type": "code",
      "metadata": {
        "id": "-ZhXzPIwfjsI",
        "colab_type": "code",
        "colab": {}
      },
      "source": [
        "# Import Libraries\n",
        "import pandas as pd\n",
        "import numpy as np\n",
        "import re\n",
        "import time\n",
        "import bs4 as bs4\n",
        "import requests as rq\n",
        "import json\n",
        "import os \n"
      ],
      "execution_count": 0,
      "outputs": []
    },
    {
      "cell_type": "markdown",
      "metadata": {
        "id": "DgjsZ-5Bg4x8",
        "colab_type": "text"
      },
      "source": [
        " ## Data Search\n",
        "\n",
        "\n",
        "* #### Webscraping youtube\n",
        "\n"
      ]
    },
    {
      "cell_type": "markdown",
      "metadata": {
        "id": "cGYV49CdhnoM",
        "colab_type": "text"
      },
      "source": [
        "\n",
        "\n",
        "## 1.  Youtube search page Structure (URL)\n",
        "\n",
        "\n"
      ]
    },
    {
      "cell_type": "markdown",
      "metadata": {
        "id": "nZVuovrF2obc",
        "colab_type": "text"
      },
      "source": [
        "The image below shows the strucute of the youtube url. We have the main page, then the search page(opens when we search our query), the way the videos will be sorted ( you define it by clicking on Filter) and finally the number of the page that's being searched. "
      ]
    },
    {
      "cell_type": "markdown",
      "metadata": {
        "id": "aFwBFy660aIz",
        "colab_type": "text"
      },
      "source": [
        "\n",
        "![alt text](https://drive.google.com/uc?id=15I0wM3OOiHQ3J3Ls_dDoq4Fax9PILFAw)\n",
        "\n"
      ]
    },
    {
      "cell_type": "code",
      "metadata": {
        "id": "1vFGX3b_hldT",
        "colab_type": "code",
        "colab": {}
      },
      "source": [
        "# what I want to search \n",
        "queries = ['machine+learnin','data+science','deploy' ] \n",
        "# The url structure of youtube - see image below\n",
        "url = \"http://www.youtube.com/results?search_query={query}&sp=CAI%253D&p={page}\""
      ],
      "execution_count": 0,
      "outputs": []
    },
    {
      "cell_type": "code",
      "metadata": {
        "id": "-RG9UzR6hpE8",
        "colab_type": "code",
        "outputId": "851c7542-36ce-4464-a61f-326d4973c5c8",
        "colab": {
          "base_uri": "https://localhost:8080/",
          "height": 34
        }
      },
      "source": [
        "# example of a search query \n",
        "url.format(query =\"machine+learning\",page = 1)"
      ],
      "execution_count": 31,
      "outputs": [
        {
          "output_type": "execute_result",
          "data": {
            "text/plain": [
              "'http://www.youtube.com/results?search_query=machine+learning&sp=CAI%253D&p=1'"
            ]
          },
          "metadata": {
            "tags": []
          },
          "execution_count": 31
        }
      ]
    },
    {
      "cell_type": "code",
      "metadata": {
        "id": "2iMwdGOe4Tux",
        "colab_type": "code",
        "colab": {}
      },
      "source": [
        "# Making sure the folder I will store the raw data exists (create directory in case it does not exist)\n",
        "data_dir = '/content/drive/My Drive/Colab Notebooks/Youtube_Video_Recommendation_System/raw_data'\n",
        "if not os.path.exists(data_dir):\n",
        "  os.makedirs(data_dir)"
      ],
      "execution_count": 0,
      "outputs": []
    },
    {
      "cell_type": "code",
      "metadata": {
        "id": "bDwNKIlT8Ufn",
        "colab_type": "code",
        "colab": {}
      },
      "source": [
        "for query in queries:\n",
        "  for page in range(1,101): #from page 0 to 100\n",
        "    urll = url.format(query = query, page= page)\n",
        "    print(urll)\n",
        "    response = rq.get(urll) # get request to retrieve data from page\n",
        "\n",
        "    # Save each url in raw_data folder \n",
        "    with open(\"/content/drive/My Drive/Colab Notebooks/Youtube_Video_Recommendation_System/raw_data/{}_{}.html\".format(query,page),\"w+\") as output:\n",
        "      output.write(response.text)\n",
        "      time.sleep(2)\n",
        "\n"
      ],
      "execution_count": 0,
      "outputs": []
    },
    {
      "cell_type": "markdown",
      "metadata": {
        "id": "OlkPAn4b_J9k",
        "colab_type": "text"
      },
      "source": [
        "# Data Parsing"
      ]
    },
    {
      "cell_type": "markdown",
      "metadata": {
        "id": "lbXBXA8HKC9y",
        "colab_type": "text"
      },
      "source": [
        "Now that I have all urls saved in my raw_data folder, I am able to process and  each of them the format I want"
      ]
    },
    {
      "cell_type": "markdown",
      "metadata": {
        "id": "JiTHcooxRubS",
        "colab_type": "text"
      },
      "source": [
        "###  Test data Parsing "
      ]
    },
    {
      "cell_type": "code",
      "metadata": {
        "id": "uHJS89sa-1Pw",
        "colab_type": "code",
        "colab": {}
      },
      "source": [
        "for query in queries[:1]:\n",
        "  for page in range(1,2):\n",
        "    # read each page \n",
        "    with open(\"/content/drive/My Drive/Colab Notebooks/Youtube_Video_Recommendation_System/raw_data/{}_{}.html\".format(query, page), \"r+\") as f: \n",
        "      page_html = f.read()\n",
        "\n",
        "      # BeautifulSoup Object to be parsed\n",
        "      parsed = bs4.BeautifulSoup(page_html)\n",
        "\n",
        "      # The tag we find the information we want\n",
        "      # The tag \"a\" defines a hyperlink, which is used to link from one page to another\n",
        "      tags = parsed.findAll(\"a\")\n",
        "\n",
        "      for e in tags:\n",
        "        if e.has_attr(\"aria-describedby\"):\n",
        "          link = e['href']      # get link addres \n",
        "          title = e['title']    # get link title\n",
        "\n",
        "          # Save parsed as json file \n",
        "          with open(\"parsed_videos.json\", \"a+\") as output:\n",
        "            data = {\"link\": link, \n",
        "                    \"title\":title,\n",
        "                    \"query\":query}\n",
        "\n",
        "            output.write(\"{}\\n\".format(json.dumps(data)))\n",
        "\n"
      ],
      "execution_count": 0,
      "outputs": []
    },
    {
      "cell_type": "code",
      "metadata": {
        "id": "RkSr6w-mR2SO",
        "colab_type": "code",
        "colab": {
          "base_uri": "https://localhost:8080/",
          "height": 224
        },
        "outputId": "01fb9144-b101-4a49-994d-a840141caa72"
      },
      "source": [
        "# Check if my json file is the way I want\n",
        "print('Parsed object type {}:'.format(type(parsed)))\n",
        "print()\n",
        "print('First element (first page link):\\n{}'.format(tags[0]))\n",
        "print()\n",
        "print('Classes of the tag:\\n{}'.format(tags[0]['class']))\n",
        "print()\n",
        "print('The json file:\\n{}'.format(json.dumps(data)))"
      ],
      "execution_count": 46,
      "outputs": [
        {
          "output_type": "stream",
          "text": [
            "Parsed object type <class 'bs4.BeautifulSoup'>:\n",
            "\n",
            "First element (first page link):\n",
            "<a class=\"masthead-logo-renderer yt-uix-sessionlink spf-link \" data-sessionlink=\"itct=CAMQsV4iEwjo4YKcqtbnAhUhm8IKHUWDDdU\" href=\"/\" id=\"logo-container\" title=\"YouTube Home\"> <span class=\"logo masthead-logo-renderer-logo yt-sprite\" title=\"YouTube Home\"></span>\n",
            "</a>\n",
            "\n",
            "Classes of the tag:\n",
            "['masthead-logo-renderer', 'yt-uix-sessionlink', 'spf-link', '']\n",
            "\n",
            "The json file:\n",
            "{\"link\": \"/watch?v=0qSatLhCKxg\", \"title\": \"Gregory Horror Show PS2 FMV 7 Death Introduction (AI Machine Learning Upscaling)\", \"query\": \"machine+learnin\"}\n"
          ],
          "name": "stdout"
        }
      ]
    },
    {
      "cell_type": "code",
      "metadata": {
        "id": "7LPNO0l8gxHg",
        "colab_type": "code",
        "colab": {}
      },
      "source": [
        ""
      ],
      "execution_count": 0,
      "outputs": []
    },
    {
      "cell_type": "markdown",
      "metadata": {
        "id": "V9SUXNEN2ulI",
        "colab_type": "text"
      },
      "source": [
        "# Verify Results"
      ]
    },
    {
      "cell_type": "code",
      "metadata": {
        "id": "giS6eb7ByvP2",
        "colab_type": "code",
        "colab": {
          "base_uri": "https://localhost:8080/",
          "height": 204
        },
        "outputId": "7d5a0e60-f754-492e-dfc0-31f9068b0621"
      },
      "source": [
        "df = pd.read_json(\"parsed_videos.json\",lines = True)\n",
        "df.head()"
      ],
      "execution_count": 50,
      "outputs": [
        {
          "output_type": "execute_result",
          "data": {
            "text/html": [
              "<div>\n",
              "<style scoped>\n",
              "    .dataframe tbody tr th:only-of-type {\n",
              "        vertical-align: middle;\n",
              "    }\n",
              "\n",
              "    .dataframe tbody tr th {\n",
              "        vertical-align: top;\n",
              "    }\n",
              "\n",
              "    .dataframe thead th {\n",
              "        text-align: right;\n",
              "    }\n",
              "</style>\n",
              "<table border=\"1\" class=\"dataframe\">\n",
              "  <thead>\n",
              "    <tr style=\"text-align: right;\">\n",
              "      <th></th>\n",
              "      <th>link</th>\n",
              "      <th>title</th>\n",
              "      <th>query</th>\n",
              "    </tr>\n",
              "  </thead>\n",
              "  <tbody>\n",
              "    <tr>\n",
              "      <th>0</th>\n",
              "      <td>/watch?v=OlHpaDSPA4w</td>\n",
              "      <td>how to be creative and teach yourself jazz (as...</td>\n",
              "      <td>machine+learnin</td>\n",
              "    </tr>\n",
              "    <tr>\n",
              "      <th>1</th>\n",
              "      <td>/watch?v=kG0TjlayW64</td>\n",
              "      <td>Faire du Machine Learning plus vite qu'un expert</td>\n",
              "      <td>machine+learnin</td>\n",
              "    </tr>\n",
              "    <tr>\n",
              "      <th>2</th>\n",
              "      <td>/watch?v=jSfSqJA6_3k</td>\n",
              "      <td>Machine Learning: A Beginner's Introduction to...</td>\n",
              "      <td>machine+learnin</td>\n",
              "    </tr>\n",
              "    <tr>\n",
              "      <th>3</th>\n",
              "      <td>/watch?v=F0gcpZmtx3g</td>\n",
              "      <td>Self learning diary - Machine Learning - Day 1</td>\n",
              "      <td>machine+learnin</td>\n",
              "    </tr>\n",
              "    <tr>\n",
              "      <th>4</th>\n",
              "      <td>/watch?v=VUEYBhVDSC0</td>\n",
              "      <td>Bias and variance trade off in machine learnin...</td>\n",
              "      <td>machine+learnin</td>\n",
              "    </tr>\n",
              "  </tbody>\n",
              "</table>\n",
              "</div>"
            ],
            "text/plain": [
              "                   link  ...            query\n",
              "0  /watch?v=OlHpaDSPA4w  ...  machine+learnin\n",
              "1  /watch?v=kG0TjlayW64  ...  machine+learnin\n",
              "2  /watch?v=jSfSqJA6_3k  ...  machine+learnin\n",
              "3  /watch?v=F0gcpZmtx3g  ...  machine+learnin\n",
              "4  /watch?v=VUEYBhVDSC0  ...  machine+learnin\n",
              "\n",
              "[5 rows x 3 columns]"
            ]
          },
          "metadata": {
            "tags": []
          },
          "execution_count": 50
        }
      ]
    },
    {
      "cell_type": "code",
      "metadata": {
        "id": "Svfi9k7P1Dh9",
        "colab_type": "code",
        "colab": {}
      },
      "source": [
        ""
      ],
      "execution_count": 0,
      "outputs": []
    }
  ]
}