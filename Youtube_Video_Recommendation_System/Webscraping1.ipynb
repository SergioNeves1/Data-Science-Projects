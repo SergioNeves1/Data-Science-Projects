{
  "nbformat": 4,
  "nbformat_minor": 0,
  "metadata": {
    "colab": {
      "name": "Webscraping1.ipynb",
      "provenance": []
    },
    "kernelspec": {
      "name": "python3",
      "display_name": "Python 3"
    }
  },
  "cells": [
    {
      "cell_type": "markdown",
      "metadata": {
        "id": "0grfM3_ugFoC",
        "colab_type": "text"
      },
      "source": [
        "# Youtube Recommendation Video System"
      ]
    },
    {
      "cell_type": "code",
      "metadata": {
        "id": "-ZhXzPIwfjsI",
        "colab_type": "code",
        "colab": {}
      },
      "source": [
        "# Import Libraries\n",
        "import pandas as pd\n",
        "import numpy as np\n",
        "import re\n",
        "import time\n",
        "import bs4 as bs4\n",
        "import requests as rq\n",
        "import json\n",
        "import os \n"
      ],
      "execution_count": 0,
      "outputs": []
    },
    {
      "cell_type": "markdown",
      "metadata": {
        "id": "DgjsZ-5Bg4x8",
        "colab_type": "text"
      },
      "source": [
        " ## Data Search\n",
        "\n",
        "\n",
        "* #### Webscraping youtube\n",
        "\n"
      ]
    },
    {
      "cell_type": "markdown",
      "metadata": {
        "id": "cGYV49CdhnoM",
        "colab_type": "text"
      },
      "source": [
        "\n",
        "\n",
        "## 1.  Youtube search page Structure (URL)\n",
        "\n",
        "\n"
      ]
    },
    {
      "cell_type": "markdown",
      "metadata": {
        "id": "nZVuovrF2obc",
        "colab_type": "text"
      },
      "source": [
        "The image below shows the strucute of the youtube url. We have the main page, then the search page(opens when we search our query), the whay the videos will be sorted ( you define it by clickin on Filter) and finally the number of the page that's being searched. "
      ]
    },
    {
      "cell_type": "markdown",
      "metadata": {
        "id": "aFwBFy660aIz",
        "colab_type": "text"
      },
      "source": [
        "\n",
        "![alt text](https://drive.google.com/uc?id=15I0wM3OOiHQ3J3Ls_dDoq4Fax9PILFAw)\n",
        "\n"
      ]
    },
    {
      "cell_type": "code",
      "metadata": {
        "id": "1vFGX3b_hldT",
        "colab_type": "code",
        "colab": {}
      },
      "source": [
        "# what I want to search \n",
        "queries = ['machine+learnin','data+science','deploy' ] \n",
        "# The url structure of youtube - see image below\n",
        "url = \"http://www.youtube.com/results?search_query={query}&sp=CAI%253D&p={page}\""
      ],
      "execution_count": 0,
      "outputs": []
    },
    {
      "cell_type": "code",
      "metadata": {
        "id": "-RG9UzR6hpE8",
        "colab_type": "code",
        "colab": {
          "base_uri": "https://localhost:8080/",
          "height": 34
        },
        "outputId": "374266e0-3cee-45c0-9390-d2259bcacc79"
      },
      "source": [
        "# example of a search query \n",
        "url.format(query =\"machine+learning\",page = 1)"
      ],
      "execution_count": 6,
      "outputs": [
        {
          "output_type": "execute_result",
          "data": {
            "text/plain": [
              "'http://www.youtube.com/results?search_query=machine+learning&sp=CAI%253D&p=1'"
            ]
          },
          "metadata": {
            "tags": []
          },
          "execution_count": 6
        }
      ]
    },
    {
      "cell_type": "code",
      "metadata": {
        "id": "2iMwdGOe4Tux",
        "colab_type": "code",
        "colab": {}
      },
      "source": [
        "# Making sure the folder I will store the raw data exists (create directory in case it does not exist)\n",
        "data_dir = './raw_data'\n",
        "if not os.path.exists(data_dir):\n",
        "  os.makedirs(data_dir)"
      ],
      "execution_count": 0,
      "outputs": []
    },
    {
      "cell_type": "code",
      "metadata": {
        "id": "bDwNKIlT8Ufn",
        "colab_type": "code",
        "colab": {
          "base_uri": "https://localhost:8080/",
          "height": 34
        },
        "outputId": "ccb7d4f3-556a-4c34-d59f-a4c2abea9ad4"
      },
      "source": [
        "for query in queries[:1]:\n",
        "  for page in range(1,2):\n",
        "    urll = url.format(query = query, page= page)\n",
        "    print(urll)\n",
        "    response = rq.get(urll) # get request to retrieve data from page\n",
        "\n",
        "    with open(\"./raw_data/{}_{}.html\".format(query,page),\"w+\") as output:\n",
        "      output.write(response.text)\n",
        "      time.sleep(2)\n",
        "\n"
      ],
      "execution_count": 20,
      "outputs": [
        {
          "output_type": "stream",
          "text": [
            "http://www.youtube.com/results?search_query=machine+learnin&sp=CAI%253D&p=1\n"
          ],
          "name": "stdout"
        }
      ]
    },
    {
      "cell_type": "code",
      "metadata": {
        "id": "uHJS89sa-1Pw",
        "colab_type": "code",
        "colab": {}
      },
      "source": [
        ""
      ],
      "execution_count": 0,
      "outputs": []
    },
    {
      "cell_type": "markdown",
      "metadata": {
        "id": "OlkPAn4b_J9k",
        "colab_type": "text"
      },
      "source": [
        "# New Section"
      ]
    }
  ]
}